{
 "cells": [
  {
   "cell_type": "code",
   "execution_count": 3,
   "id": "7494fe73-94a2-4cc8-ac5d-1107918a5aca",
   "metadata": {},
   "outputs": [],
   "source": [
    "from nbodykit.lab import *\n",
    "from nbodykit import style, setup_logging\n",
    "\n",
    "import matplotlib.pyplot as plt\n",
    "plt.style.use(style.notebook)"
   ]
  },
  {
   "cell_type": "code",
   "execution_count": 4,
   "id": "016daf43-e5f7-4103-ad8b-c7f8965efc02",
   "metadata": {},
   "outputs": [],
   "source": [
    "setup_logging() # turn on logging to screen"
   ]
  },
  {
   "cell_type": "code",
   "execution_count": 5,
   "id": "f29bdc51-2683-43b9-9394-fe969d0f869b",
   "metadata": {},
   "outputs": [
    {
     "name": "stderr",
     "output_type": "stream",
     "text": [
      "[ 000013.96 ]   0: 04-10 11:34  LogNormalCatalog INFO     Growth Rate is 0.770123\n",
      "[ 000013.96 ]   0: 04-10 11:34  LogNormalCatalog INFO     Generating whitenoise\n",
      "[ 000017.44 ]   0: 04-10 11:34  LogNormalCatalog INFO     Write noise generated\n",
      "[ 000021.97 ]   0: 04-10 11:34  LogNormalCatalog INFO     Displacement computed in fourier space\n",
      "[ 000022.50 ]   0: 04-10 11:34  LogNormalCatalog INFO     Overdensity computed in configuration space: std = 1.1929580837889608\n",
      "[ 000024.04 ]   0: 04-10 11:34  LogNormalCatalog INFO     Displacement computed in configuration space: std = [4.2380118992032205, 4.235169508603116, 4.313347553502914]\n",
      "[ 000024.06 ]   0: 04-10 11:34  LogNormalCatalog INFO     gaussian field is generated\n",
      "[ 000024.29 ]   0: 04-10 11:34  LogNormalCatalog INFO     Lognormal transformation done\n",
      "[ 000026.35 ]   0: 04-10 11:34  LogNormalCatalog INFO     Poisson sampling done, total number of objects is 7886734\n",
      "[ 000032.39 ]   0: 04-10 11:34  LogNormalCatalog INFO     catalog produced. Assigning in cell shift.\n",
      "[ 000042.51 ]   0: 04-10 11:35  LogNormalCatalog INFO     sorting done\n",
      "[ 000043.23 ]   0: 04-10 11:35  LogNormalCatalog INFO     catalog shifted.\n",
      "[ 000043.29 ]   0: 04-10 11:35  LogNormalCatalog INFO     poisson sampling is generated\n"
     ]
    }
   ],
   "source": [
    "redshift = 0.55\n",
    "cosmo = cosmology.Planck15\n",
    "Plin = cosmology.LinearPower(cosmo, redshift, transfer='EisensteinHu')\n",
    "b1 = 2.0\n",
    "\n",
    "cat = LogNormalCatalog(Plin=Plin, nbar=3e-3, BoxSize=1380., Nmesh=256, bias=b1, seed=42)"
   ]
  },
  {
   "cell_type": "code",
   "execution_count": 1,
   "id": "9906f288-480f-4f6d-ac5f-0e2f1a9143fa",
   "metadata": {},
   "outputs": [],
   "source": [
    "#help(LogNormalCatalog)"
   ]
  },
  {
   "cell_type": "code",
   "execution_count": null,
   "id": "5860999a-2e7d-484e-912a-6a1f7dcac8a2",
   "metadata": {},
   "outputs": [],
   "source": [
    "nb.LogNormalCatalog()"
   ]
  },
  {
   "cell_type": "code",
   "execution_count": null,
   "id": "bb99b416-ba68-483f-adb7-5e644bd53e6c",
   "metadata": {},
   "outputs": [],
   "source": []
  }
 ],
 "metadata": {
  "kernelspec": {
   "display_name": "python (sysnet)",
   "language": "python",
   "name": "sysnet"
  },
  "language_info": {
   "codemirror_mode": {
    "name": "ipython",
    "version": 3
   },
   "file_extension": ".py",
   "mimetype": "text/x-python",
   "name": "python",
   "nbconvert_exporter": "python",
   "pygments_lexer": "ipython3",
   "version": "3.8.13"
  }
 },
 "nbformat": 4,
 "nbformat_minor": 5
}
